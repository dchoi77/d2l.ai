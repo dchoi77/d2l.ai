{
 "cells": [
  {
   "cell_type": "markdown",
   "metadata": {},
   "source": [
    "Arguments of `tf.keras.layers.Conv2D()`:\n",
    "\n",
    "* padding = \"valid\" or \"same\"\n",
    "\n",
    "Reference: https://stackoverflow.com/questions/37674306/what-is-the-difference-between-same-and-valid-padding-in-tf-nn-max-pool-of-t\n",
    "\n",
    "When stride is 1, we can think of the following distinction:\n",
    "\n",
    "* \"same\": Output size is the same as input size. This requires the filter window to slip outside input map, hence the need to pad.\n",
    "* \"valid\": Filter window stays at valid position inside input map, so output size shrinks by filter_size - 1. No padding occurs."
   ]
  },
  {
   "cell_type": "code",
   "execution_count": 2,
   "metadata": {},
   "outputs": [
    {
     "name": "stdout",
     "output_type": "stream",
     "text": [
      "(4, 26, 26, 2)\n",
      "(4, 28, 28, 2)\n"
     ]
    }
   ],
   "source": [
    "import tensorflow as tf\n",
    "\n",
    "input_shape = (4, 28, 28, 3)\n",
    "x = tf.random.normal(input_shape)\n",
    "y = tf.keras.layers.Conv2D(2, 3, input_shape=input_shape[1:])(x)\n",
    "print(y.shape)\n",
    "\n",
    "y = tf.keras.layers.Conv2D(2, 3, padding=\"same\", input_shape=input_shape[1:])(x)\n",
    "print(y.shape)"
   ]
  }
 ],
 "metadata": {
  "kernelspec": {
   "display_name": "Python 3",
   "language": "python",
   "name": "python3"
  },
  "language_info": {
   "codemirror_mode": {
    "name": "ipython",
    "version": 3
   },
   "file_extension": ".py",
   "mimetype": "text/x-python",
   "name": "python",
   "nbconvert_exporter": "python",
   "pygments_lexer": "ipython3",
   "version": "3.8.3"
  }
 },
 "nbformat": 4,
 "nbformat_minor": 4
}
