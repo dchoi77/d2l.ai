{
 "cells": [
  {
   "cell_type": "markdown",
   "metadata": {},
   "source": [
    "Reference: https://d2l.ai/chapter_convolutional-modern/googlenet.html\n",
    "\n",
    "<img src=\"images/inception_block.png\">"
   ]
  },
  {
   "cell_type": "code",
   "execution_count": 11,
   "metadata": {},
   "outputs": [],
   "source": [
    "import tensorflow as tf\n",
    "\n",
    "# input.shape: (b, w, h, c)\n",
    "# output.shape: (b, w, h, c1+c2[1]+c3[1]+c4)\n",
    "\n",
    "class Inception(tf.keras.Model):\n",
    "    # `c1`--`c4` are the number of output channels for each path\n",
    "    def __init__(self, c1, c2, c3, c4):\n",
    "        super().__init__()\n",
    "        self.p1_1 = tf.keras.layers.Conv2D(c1, 1, activation='relu')\n",
    "        self.p2_1 = tf.keras.layers.Conv2D(c2[0], 1, activation='relu')\n",
    "        self.p2_2 = tf.keras.layers.Conv2D(c2[1], 3, padding='same', activation='relu')\n",
    "        self.p3_1 = tf.keras.layers.Conv2D(c3[0], 1, activation='relu')\n",
    "        self.p3_2 = tf.keras.layers.Conv2D(c3[1], 5, padding='same', activation='relu')\n",
    "        self.p4_1 = tf.keras.layers.MaxPool2D(3, 1, padding='same')\n",
    "        self.p4_2 = tf.keras.layers.Conv2D(c4, 1, activation='relu')\n",
    "\n",
    "    def call(self, x):                # x.shape: (b, w, h, c)\n",
    "        p1 = self.p1_1(x)             # p1.shape: (b, w, h, c1)\n",
    "        p2 = self.p2_2(self.p2_1(x))  # p2_1(x).shape: (b, w, h, c2[0]), p2.shape: (b, w, h, c2[1])\n",
    "        p3 = self.p3_2(self.p3_1(x))  # p3_1(x).shape: (b, w, h, c3[0]), p3.shape: (b, w, h, c3[1])\n",
    "        p4 = self.p4_2(self.p4_1(x))  # p4_1(x).shape: (b, w, h, 3), p4.shape: (b, w, h, c4)\n",
    "        return tf.keras.layers.Concatenate()([p1, p2, p3, p4])  # output shape: (b, w, h, c1+c2[1]+c3[1]+c4)"
   ]
  },
  {
   "cell_type": "markdown",
   "metadata": {},
   "source": [
    "<img src=\"images/googlenet.png\">"
   ]
  },
  {
   "cell_type": "code",
   "execution_count": 23,
   "metadata": {},
   "outputs": [],
   "source": [
    "def b1():\n",
    "    return tf.keras.models.Sequential([                                                # input shape: (b, w, h, c)\n",
    "        tf.keras.layers.Conv2D(64, 7, strides=2, padding='same', activation='relu'),   # shape: (b, w/2, h/2, 64)\n",
    "        tf.keras.layers.MaxPool2D(pool_size=3, strides=2, padding='same')])            # shape: (b, w/4, h/4, 64)\n",
    "\n",
    "def b2():\n",
    "    return tf.keras.Sequential([                                             # input shape: (b, w, h, c)\n",
    "        tf.keras.layers.Conv2D(64, 1, activation='relu'),                    # shape: (b, w, h, 64)\n",
    "        tf.keras.layers.Conv2D(192, 3, padding='same', activation='relu'),   # shape: (b, w, h, 192)\n",
    "        tf.keras.layers.MaxPool2D(pool_size=3, strides=2, padding='same')])  # shape: (b, w/2, h/2, 192)\n",
    "\n",
    "def b3():\n",
    "    return tf.keras.models.Sequential([                                      # input shape: (b, w, h, c)\n",
    "        Inception(64, (96, 128), (16, 32), 32),                              # shape: (b, w, h, 64+128+32+32=256)\n",
    "        Inception(128, (128, 192), (32, 96), 64),                            # shape: (b, w, h, 128+192+96+64=480)\n",
    "        tf.keras.layers.MaxPool2D(pool_size=3, strides=2, padding='same')])  # shape: (b, w/2, h/2, 128+192+96+64=480)\n",
    "\n",
    "def b4():\n",
    "    return tf.keras.Sequential([                        # input shape: (b, w, h, c)\n",
    "        Inception(192, (96, 208), (16, 48), 64),        # shape: (b, w, h, 192+208+48+64=512)\n",
    "        Inception(160, (112, 224), (24, 64), 64),       # shape: (b, w, h, 160+224+64+64=512)\n",
    "        Inception(128, (128, 256), (24, 64), 64),       # shape: (b, w, h, 128+256+64+64=512)\n",
    "        Inception(112, (144, 288), (32, 64), 64),       # shape: (b, w, h, 112+288+64+64=528)\n",
    "        Inception(256, (160, 320), (32, 128), 128),     # shape: (b, w, h, 256+320+128+128=832)\n",
    "        tf.keras.layers.MaxPool2D(pool_size=3, strides=2, padding='same')])    # shape: (b, w/2, h/2, 832)\n",
    "\n",
    "def b5():\n",
    "    return tf.keras.Sequential([                        # input shape: (b, w, h, c)\n",
    "        Inception(256, (160, 320), (32, 128), 128),     # shape: (b, w, h, 256+320+128+128=832)\n",
    "        Inception(384, (192, 384), (48, 128), 128),     # shape: (b, w, h, 384+384+128+128=1024)\n",
    "        tf.keras.layers.GlobalAvgPool2D(),              # shape: (b, 1024)\n",
    "        #tf.keras.layers.Flatten()                       # shape: (b, 1024); I don't think it is needed\n",
    "    ])\n",
    "\n",
    "# Recall that this has to be a function that will be passed to\n",
    "# `d2l.train_ch6()` so that model building/compiling need to be within\n",
    "# `strategy.scope()` in order to utilize the CPU/GPU devices that we have\n",
    "def net():\n",
    "    return tf.keras.Sequential([b1(), b2(), b3(), b4(), b5(), tf.keras.layers.Dense(10)])"
   ]
  },
  {
   "cell_type": "code",
   "execution_count": 24,
   "metadata": {},
   "outputs": [
    {
     "name": "stdout",
     "output_type": "stream",
     "text": [
      "Sequential output shape:\t (5, 24, 24, 64)\n",
      "Sequential output shape:\t (5, 12, 12, 192)\n",
      "Sequential output shape:\t (5, 6, 6, 480)\n",
      "Sequential output shape:\t (5, 3, 3, 832)\n",
      "Sequential output shape:\t (5, 1024)\n",
      "Dense output shape:\t (5, 10)\n"
     ]
    }
   ],
   "source": [
    "X = tf.random.uniform(shape=(5, 96, 96, 3))\n",
    "for layer in net().layers:\n",
    "    X = layer(X)\n",
    "    print(layer.__class__.__name__, 'output shape:\\t', X.shape)"
   ]
  },
  {
   "cell_type": "code",
   "execution_count": null,
   "metadata": {},
   "outputs": [],
   "source": []
  }
 ],
 "metadata": {
  "kernelspec": {
   "display_name": "Python 3",
   "language": "python",
   "name": "python3"
  },
  "language_info": {
   "codemirror_mode": {
    "name": "ipython",
    "version": 3
   },
   "file_extension": ".py",
   "mimetype": "text/x-python",
   "name": "python",
   "nbconvert_exporter": "python",
   "pygments_lexer": "ipython3",
   "version": "3.8.3"
  }
 },
 "nbformat": 4,
 "nbformat_minor": 4
}
