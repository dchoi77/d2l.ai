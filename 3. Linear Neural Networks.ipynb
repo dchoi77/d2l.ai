{
 "cells": [
  {
   "cell_type": "markdown",
   "metadata": {},
   "source": [
    "# 3.1. Linear Regression\n",
    "\n",
    "## 3.1.1. Basic Elements of Linear Regression\n",
    "\n",
    "$d = $ the number of features.\n",
    "\n",
    "$n = $ the number of examples in the dataset.\n",
    "\n",
    "Denote each input as $\\mathbf{x}^{(i)}=[x_1^{(i)},\\ldots,x_d^{(i)}]^T$ and the corresponding label as $y^{(i)}$.\n",
    "\n",
    "$\\mathbf{X} = [\\mathbf{x}^{(1)} \\cdots \\mathbf{x}^{(n)}]^T = \\begin{bmatrix}(\\mathbf{x}^{(1)})^{T}\\\\\n",
    "\\vdots\\\\\n",
    "(\\mathbf{x}^{(n)})^{T}\n",
    "    \\end{bmatrix} \\in \\mathbb{R}^{n,d}$ is the design matrix.\n",
    "    \n",
    "$\\hat{y}^{(i)} = \\mathbf{w}^T\\mathbf{x}^{(i)} + b$.\n",
    "\n",
    "$\\hat{\\mathbf{y}} = \\mathbf{X}\\mathbf{w} + b$."
   ]
  },
  {
   "cell_type": "markdown",
   "metadata": {},
   "source": [
    "## 3.1.2. Vectorization for Speed"
   ]
  },
  {
   "cell_type": "code",
   "execution_count": 2,
   "metadata": {},
   "outputs": [],
   "source": [
    "import tensorflow as tf\n",
    "\n",
    "n = 10000\n",
    "a = tf.ones(n)\n",
    "b = tf.ones(n)\n",
    "c = tf.Variable(tf.zeros(n))\n",
    "for i in range(n):\n",
    "    c[i].assign(a[i] + b[i])\n",
    "\n",
    "# vectorization; less time\n",
    "c = a + b"
   ]
  },
  {
   "cell_type": "markdown",
   "metadata": {},
   "source": [
    "# 3.4. Softmax Regression\n",
    "\n",
    "## 3.4.5. Loss Function\n",
    "\n",
    "For any pair of a one-hot vector label $\\mathbf{y}$ and model prediction $\\hat{\\mathbf{y}}$ over $q$ classes, the loss function  $l$  is\n",
    "\n",
    "$l(\\mathbf{y},\\hat{\\mathbf{y}}) = -\\sum_{j=1}^q y_j \\log\\hat{y}_j$\n",
    "\n",
    "$\\mathbf{y}$ = a one-hot vector of length $q$\n",
    "\n",
    "$\\hat{y}_j$ are predicted probabilities\n",
    "\n",
    "The loss function is called the _cross-entropy loss_."
   ]
  }
 ],
 "metadata": {
  "kernelspec": {
   "display_name": "Python 3",
   "language": "python",
   "name": "python3"
  },
  "language_info": {
   "codemirror_mode": {
    "name": "ipython",
    "version": 3
   },
   "file_extension": ".py",
   "mimetype": "text/x-python",
   "name": "python",
   "nbconvert_exporter": "python",
   "pygments_lexer": "ipython3",
   "version": "3.8.3"
  }
 },
 "nbformat": 4,
 "nbformat_minor": 4
}
